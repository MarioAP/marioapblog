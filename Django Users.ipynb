{
 "cells": [
  {
   "cell_type": "markdown",
   "id": "satellite-appearance",
   "metadata": {},
   "source": [
    "https://www.codingforentrepreneurs.com/blog/use-django-in-jupyter\n",
    "\n",
    "https://gist.github.com/codingforentrepreneurs/76e570d759f83d690bf36a8a8fa4cfbe#file-django_for_jupyter-py\n",
    "\n",
    "https://www.youtube.com/watch?v=t3mk_u0rprM"
   ]
  },
  {
   "cell_type": "code",
   "execution_count": 2,
   "id": "duplicate-dairy",
   "metadata": {},
   "outputs": [],
   "source": [
    "from django_iha_jupyter import init_django\n",
    "init_django(\"todo\")"
   ]
  },
  {
   "cell_type": "code",
   "execution_count": 3,
   "id": "greater-document",
   "metadata": {},
   "outputs": [],
   "source": [
    "from django.contrib.auth import get_user_model\n",
    "from tasks.models import TaskModel\n",
    "\n",
    "#https://stackoverflow.com/questions/837828/how-do-i-create-a-slug-in-django\n",
    "from django.template.defaultfilters import slugify"
   ]
  },
  {
   "cell_type": "code",
   "execution_count": 16,
   "id": "decent-efficiency",
   "metadata": {},
   "outputs": [
    {
     "data": {
      "text/plain": [
       "'a-a-a-a-a'"
      ]
     },
     "execution_count": 16,
     "metadata": {},
     "output_type": "execute_result"
    }
   ],
   "source": [
    "slugify(\"a a a a a\")"
   ]
  },
  {
   "cell_type": "code",
   "execution_count": 5,
   "id": "committed-pursuit",
   "metadata": {},
   "outputs": [],
   "source": [
    "User = get_user_model()"
   ]
  },
  {
   "cell_type": "markdown",
   "id": "alpha-ghost",
   "metadata": {},
   "source": [
    "# Hatudu model nia fields"
   ]
  },
  {
   "cell_type": "code",
   "execution_count": 6,
   "id": "connected-assumption",
   "metadata": {},
   "outputs": [
    {
     "data": {
      "text/plain": [
       "(<django.db.models.fields.AutoField: id>,\n",
       " <django.db.models.fields.CharField: titlu>,\n",
       " <django.db.models.fields.TextField: deskrisaun>,\n",
       " <django.db.models.fields.BooleanField: kompleta>,\n",
       " <django.db.models.fields.DateTimeField: data_kria>,\n",
       " <django.db.models.fields.related.ForeignKey: user>)"
      ]
     },
     "execution_count": 6,
     "metadata": {},
     "output_type": "execute_result"
    }
   ],
   "source": [
    "def get_model_fields(model):\n",
    "    return model._meta.fields\n",
    "\n",
    "get_model_fields(TaskModel)"
   ]
  },
  {
   "cell_type": "code",
   "execution_count": 7,
   "id": "boring-mercy",
   "metadata": {},
   "outputs": [
    {
     "data": {
      "text/plain": [
       "(<django.db.models.fields.AutoField: id>,\n",
       " <django.db.models.fields.CharField: titlu>,\n",
       " <django.db.models.fields.TextField: deskrisaun>,\n",
       " <django.db.models.fields.BooleanField: kompleta>,\n",
       " <django.db.models.fields.DateTimeField: data_kria>,\n",
       " <django.db.models.fields.related.ForeignKey: user>)"
      ]
     },
     "execution_count": 7,
     "metadata": {},
     "output_type": "execute_result"
    }
   ],
   "source": [
    "TaskModel._meta.get_fields()"
   ]
  },
  {
   "cell_type": "code",
   "execution_count": 8,
   "id": "hired-quantum",
   "metadata": {},
   "outputs": [
    {
     "name": "stdout",
     "output_type": "stream",
     "text": [
      "Ba Exersisiu\n",
      "Ba Kursu\n",
      "Ba hola Avokate\n",
      "Ba gym\n",
      "Ba hola susu ben\n",
      "Ba hola Batar\n",
      "Vizita kolega\n",
      "Teste\n",
      "Tses\n",
      "adfasdf\n"
     ]
    }
   ],
   "source": [
    "tasks = TaskModel.objects.all()\n",
    "for task in tasks:\n",
    "    print(task)"
   ]
  },
  {
   "cell_type": "code",
   "execution_count": 9,
   "id": "pointed-incidence",
   "metadata": {},
   "outputs": [
    {
     "data": {
      "text/plain": [
       "<QuerySet [<User: mario>, <User: rabb>]>"
      ]
     },
     "execution_count": 9,
     "metadata": {},
     "output_type": "execute_result"
    }
   ],
   "source": [
    "User.objects.all()"
   ]
  },
  {
   "cell_type": "code",
   "execution_count": 10,
   "id": "tracked-framing",
   "metadata": {},
   "outputs": [],
   "source": [
    "from tasks.models import TaskModel"
   ]
  },
  {
   "cell_type": "code",
   "execution_count": 11,
   "id": "floppy-positive",
   "metadata": {},
   "outputs": [
    {
     "data": {
      "text/plain": [
       "<QuerySet [<TaskModel: Ba Exersisiu>, <TaskModel: Ba Kursu>, <TaskModel: Ba hola Avokate>, <TaskModel: Ba gym>, <TaskModel: Ba hola susu ben>, <TaskModel: Ba hola Batar>, <TaskModel: Vizita kolega>, <TaskModel: Teste>, <TaskModel: Tses>, <TaskModel: adfasdf>]>"
      ]
     },
     "execution_count": 11,
     "metadata": {},
     "output_type": "execute_result"
    }
   ],
   "source": [
    "task = TaskModel.objects.all()\n",
    "task"
   ]
  },
  {
   "cell_type": "code",
   "execution_count": 13,
   "id": "speaking-contributor",
   "metadata": {},
   "outputs": [
    {
     "name": "stdout",
     "output_type": "stream",
     "text": [
      "Ba Exersisiu\n",
      "Ba Kursu\n",
      "Ba hola Avokate\n",
      "Ba gym\n",
      "Ba hola susu ben\n",
      "Ba hola Batar\n",
      "Vizita kolega\n",
      "Teste\n",
      "Tses\n",
      "adfasdf\n"
     ]
    }
   ],
   "source": [
    "for tsk in task:\n",
    "    print(tsk)"
   ]
  }
 ],
 "metadata": {
  "kernelspec": {
   "display_name": "Python 3",
   "language": "python",
   "name": "python3"
  },
  "language_info": {
   "codemirror_mode": {
    "name": "ipython",
    "version": 3
   },
   "file_extension": ".py",
   "mimetype": "text/x-python",
   "name": "python",
   "nbconvert_exporter": "python",
   "pygments_lexer": "ipython3",
   "version": "3.7.9"
  },
  "toc-autonumbering": true,
  "toc-showcode": true
 },
 "nbformat": 4,
 "nbformat_minor": 5
}
