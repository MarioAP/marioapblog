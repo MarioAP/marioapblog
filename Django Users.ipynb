{
 "cells": [
  {
   "cell_type": "markdown",
   "id": "ultimate-kazakhstan",
   "metadata": {},
   "source": [
    "https://www.codingforentrepreneurs.com/blog/use-django-in-jupyter\n",
    "\n",
    "https://gist.github.com/codingforentrepreneurs/76e570d759f83d690bf36a8a8fa4cfbe#file-django_for_jupyter-py\n",
    "\n",
    "https://www.youtube.com/watch?v=t3mk_u0rprM"
   ]
  },
  {
   "cell_type": "code",
   "execution_count": 1,
   "id": "general-strategy",
   "metadata": {},
   "outputs": [],
   "source": [
    "from django_iha_jupyter import init_django\n",
    "init_django(\"todo\")"
   ]
  },
  {
   "cell_type": "code",
   "execution_count": 2,
   "id": "according-sleeve",
   "metadata": {},
   "outputs": [],
   "source": [
    "from django.contrib.auth import get_user_model\n",
    "from tasks.models import TaskModel\n",
    "\n",
    "#https://stackoverflow.com/questions/837828/how-do-i-create-a-slug-in-django\n",
    "from django.template.defaultfilters import slugify"
   ]
  },
  {
   "cell_type": "code",
   "execution_count": 3,
   "id": "verified-smoke",
   "metadata": {},
   "outputs": [
    {
     "data": {
      "text/plain": [
       "'a-a-a-a-a'"
      ]
     },
     "execution_count": 3,
     "metadata": {},
     "output_type": "execute_result"
    }
   ],
   "source": [
    "slugify(\"a a a a a\")"
   ]
  },
  {
   "cell_type": "code",
   "execution_count": 4,
   "id": "bigger-engine",
   "metadata": {},
   "outputs": [],
   "source": [
    "User = get_user_model()"
   ]
  },
  {
   "cell_type": "markdown",
   "id": "smaller-hypothesis",
   "metadata": {},
   "source": [
    "# Hatudu model nia fields"
   ]
  },
  {
   "cell_type": "code",
   "execution_count": 5,
   "id": "ambient-haiti",
   "metadata": {},
   "outputs": [
    {
     "data": {
      "text/plain": [
       "(<django.db.models.fields.AutoField: id>,\n",
       " <django.db.models.fields.CharField: titlu>,\n",
       " <django.db.models.fields.TextField: deskrisaun>,\n",
       " <django.db.models.fields.BooleanField: kompleta>,\n",
       " <django.db.models.fields.DateTimeField: data_kria>,\n",
       " <django.db.models.fields.related.ForeignKey: user>)"
      ]
     },
     "execution_count": 5,
     "metadata": {},
     "output_type": "execute_result"
    }
   ],
   "source": [
    "def get_model_fields(model):\n",
    "    return model._meta.fields\n",
    "\n",
    "get_model_fields(TaskModel)"
   ]
  },
  {
   "cell_type": "code",
   "execution_count": 6,
   "id": "personalized-understanding",
   "metadata": {},
   "outputs": [
    {
     "data": {
      "text/plain": [
       "(<django.db.models.fields.AutoField: id>,\n",
       " <django.db.models.fields.CharField: titlu>,\n",
       " <django.db.models.fields.TextField: deskrisaun>,\n",
       " <django.db.models.fields.BooleanField: kompleta>,\n",
       " <django.db.models.fields.DateTimeField: data_kria>,\n",
       " <django.db.models.fields.related.ForeignKey: user>)"
      ]
     },
     "execution_count": 6,
     "metadata": {},
     "output_type": "execute_result"
    }
   ],
   "source": [
    "TaskModel._meta.get_fields()"
   ]
  },
  {
   "cell_type": "code",
   "execution_count": 45,
   "id": "automotive-somalia",
   "metadata": {},
   "outputs": [
    {
     "name": "stdout",
     "output_type": "stream",
     "text": [
      "{'id': 29}\n",
      "{'id': 30}\n",
      "{'id': 31}\n",
      "{'id': 27}\n",
      "{'id': 26}\n",
      "{'id': 28}\n",
      "{'id': 34}\n",
      "{'id': 25}\n",
      "{'id': 35}\n",
      "{'id': 36}\n",
      "{'id': 37}\n",
      "{'id': 32}\n",
      "{'id': 39}\n"
     ]
    }
   ],
   "source": [
    "tasks = TaskModel.objects.values('id')\n",
    "for task in tasks:\n",
    "    print(task)"
   ]
  },
  {
   "cell_type": "code",
   "execution_count": 43,
   "id": "cooked-video",
   "metadata": {},
   "outputs": [
    {
     "data": {
      "text/plain": [
       "<QuerySet [<User: rabb>, <User: mario>]>"
      ]
     },
     "execution_count": 43,
     "metadata": {},
     "output_type": "execute_result"
    }
   ],
   "source": [
    "User.objects.all()"
   ]
  },
  {
   "cell_type": "code",
   "execution_count": 9,
   "id": "altered-pakistan",
   "metadata": {},
   "outputs": [
    {
     "data": {
      "text/plain": [
       "<TaskModel: Ba Exersisiu>"
      ]
     },
     "execution_count": 9,
     "metadata": {},
     "output_type": "execute_result"
    }
   ],
   "source": [
    "from tasks.models import TaskModel\n",
    "task = TaskModel.objects.get(id=25)\n",
    "task"
   ]
  },
  {
   "cell_type": "code",
   "execution_count": 25,
   "id": "verified-american",
   "metadata": {},
   "outputs": [
    {
     "data": {
      "text/plain": [
       "<QuerySet [<TaskModel: Ba hola susu ben>, <TaskModel: Ba hola Batar>, <TaskModel: Vizita kolega>, <TaskModel: Ba hola Avokate>, <TaskModel: Ba Kursu>, <TaskModel: Ba gym>, <TaskModel: Lee info Covid19>, <TaskModel: Ba Exersisiu>, <TaskModel: Test>, <TaskModel: asdfasdf>, <TaskModel: dfasdf>, <TaskModel: Teste>, <TaskModel: koko>]>"
      ]
     },
     "execution_count": 25,
     "metadata": {},
     "output_type": "execute_result"
    }
   ],
   "source": [
    "task = TaskModel.objects.all()\n",
    "task"
   ]
  },
  {
   "cell_type": "code",
   "execution_count": 11,
   "id": "unavailable-trial",
   "metadata": {},
   "outputs": [
    {
     "name": "stdout",
     "output_type": "stream",
     "text": [
      "Ba hola susu ben\n",
      "Ba hola Batar\n",
      "Vizita kolega\n",
      "Ba hola Avokate\n",
      "Ba Kursu\n",
      "Ba gym\n",
      "Lee info Covid19\n",
      "Ba Exersisiu\n",
      "Test\n",
      "asdfasdf\n",
      "dfasdf\n",
      "Teste\n"
     ]
    }
   ],
   "source": [
    "for tsk in task:\n",
    "    print(tsk)"
   ]
  },
  {
   "cell_type": "code",
   "execution_count": 52,
   "id": "short-painting",
   "metadata": {},
   "outputs": [
    {
     "data": {
      "text/plain": [
       "<QuerySet [{'kompleta': False}, {'kompleta': False}, {'kompleta': False}, {'kompleta': True}, {'kompleta': True}, {'kompleta': True}, {'kompleta': True}, {'kompleta': True}, {'kompleta': False}, {'kompleta': False}, {'kompleta': False}, {'kompleta': True}, {'kompleta': False}]>"
      ]
     },
     "execution_count": 52,
     "metadata": {},
     "output_type": "execute_result"
    }
   ],
   "source": [
    "TaskModel.objects.values('kompleta')"
   ]
  },
  {
   "cell_type": "code",
   "execution_count": null,
   "id": "complex-detective",
   "metadata": {},
   "outputs": [],
   "source": []
  },
  {
   "cell_type": "code",
   "execution_count": null,
   "id": "level-expression",
   "metadata": {},
   "outputs": [],
   "source": []
  }
 ],
 "metadata": {
  "kernelspec": {
   "display_name": "Python 3",
   "language": "python",
   "name": "python3"
  },
  "language_info": {
   "codemirror_mode": {
    "name": "ipython",
    "version": 3
   },
   "file_extension": ".py",
   "mimetype": "text/x-python",
   "name": "python",
   "nbconvert_exporter": "python",
   "pygments_lexer": "ipython3",
   "version": "3.7.9"
  },
  "toc-autonumbering": true,
  "toc-showcode": true
 },
 "nbformat": 4,
 "nbformat_minor": 5
}
