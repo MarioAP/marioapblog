{
 "cells": [
  {
   "cell_type": "markdown",
   "id": "balanced-exploration",
   "metadata": {},
   "source": [
    "https://www.codingforentrepreneurs.com/blog/use-django-in-jupyter\n",
    "\n",
    "https://gist.github.com/codingforentrepreneurs/76e570d759f83d690bf36a8a8fa4cfbe#file-django_for_jupyter-py\n",
    "\n",
    "https://www.youtube.com/watch?v=t3mk_u0rprM"
   ]
  },
  {
   "cell_type": "code",
   "execution_count": 22,
   "id": "third-yesterday",
   "metadata": {},
   "outputs": [],
   "source": [
    "from django_iha_jupyter import init_django\n",
    "init_django(\"todo\")"
   ]
  },
  {
   "cell_type": "code",
   "execution_count": 5,
   "id": "single-software",
   "metadata": {},
   "outputs": [],
   "source": [
    "from django.contrib.auth import get_user_model"
   ]
  },
  {
   "cell_type": "code",
   "execution_count": 44,
   "id": "ethical-blend",
   "metadata": {},
   "outputs": [],
   "source": [
    "User = get_user_model()\n"
   ]
  },
  {
   "cell_type": "code",
   "execution_count": 1,
   "id": "adequate-mouth",
   "metadata": {},
   "outputs": [
    {
     "ename": "NameError",
     "evalue": "name 'TaskModel' is not defined",
     "output_type": "error",
     "traceback": [
      "\u001b[0;31m---------------------------------------------------------------------------\u001b[0m",
      "\u001b[0;31mNameError\u001b[0m                                 Traceback (most recent call last)",
      "\u001b[0;32m<ipython-input-1-6d0afd572db8>\u001b[0m in \u001b[0;36m<module>\u001b[0;34m\u001b[0m\n\u001b[0;32m----> 1\u001b[0;31m \u001b[0mTaskModel\u001b[0m\u001b[0;34m.\u001b[0m\u001b[0mobjects\u001b[0m\u001b[0;34m.\u001b[0m\u001b[0mall\u001b[0m\u001b[0;34m(\u001b[0m\u001b[0;34m)\u001b[0m\u001b[0;34m\u001b[0m\u001b[0;34m\u001b[0m\u001b[0m\n\u001b[0m",
      "\u001b[0;31mNameError\u001b[0m: name 'TaskModel' is not defined"
     ]
    }
   ],
   "source": [
    "TaskModel.objects.all()"
   ]
  },
  {
   "cell_type": "code",
   "execution_count": 31,
   "id": "checked-trademark",
   "metadata": {},
   "outputs": [
    {
     "data": {
      "text/plain": [
       "<QuerySet [<User: mario>, <User: rabb>]>"
      ]
     },
     "execution_count": 31,
     "metadata": {},
     "output_type": "execute_result"
    }
   ],
   "source": [
    "User.objects.all()"
   ]
  },
  {
   "cell_type": "code",
   "execution_count": 26,
   "id": "constant-edmonton",
   "metadata": {},
   "outputs": [],
   "source": [
    "from tasks.models import TaskModel"
   ]
  },
  {
   "cell_type": "code",
   "execution_count": 27,
   "id": "spread-bundle",
   "metadata": {},
   "outputs": [
    {
     "data": {
      "text/plain": [
       "<QuerySet [<TaskModel: Ba Exersisiu>, <TaskModel: Ba Kursu>, <TaskModel: Ba hola Avokate>, <TaskModel: Ba gym>, <TaskModel: Ba hola susu ben>, <TaskModel: Ba hola Batar>, <TaskModel: Vizita kolega>, <TaskModel: Teste>, <TaskModel: Tses>, <TaskModel: adfasdf>]>"
      ]
     },
     "execution_count": 27,
     "metadata": {},
     "output_type": "execute_result"
    }
   ],
   "source": [
    "task = TaskModel.objects.all()\n",
    "task"
   ]
  },
  {
   "cell_type": "code",
   "execution_count": 28,
   "id": "virgin-mailman",
   "metadata": {},
   "outputs": [
    {
     "name": "stdout",
     "output_type": "stream",
     "text": [
      "Ba Exersisiu\n",
      "Ba Kursu\n",
      "Ba hola Avokate\n",
      "Ba gym\n",
      "Ba hola susu ben\n",
      "Ba hola Batar\n",
      "Vizita kolega\n",
      "Teste\n",
      "Tses\n",
      "adfasdf\n"
     ]
    }
   ],
   "source": [
    "for tsk in task:\n",
    "    print(tsk)"
   ]
  },
  {
   "cell_type": "code",
   "execution_count": null,
   "id": "lasting-lobby",
   "metadata": {},
   "outputs": [],
   "source": []
  },
  {
   "cell_type": "code",
   "execution_count": null,
   "id": "compound-kingdom",
   "metadata": {},
   "outputs": [],
   "source": []
  }
 ],
 "metadata": {
  "kernelspec": {
   "display_name": "Python 3",
   "language": "python",
   "name": "python3"
  },
  "language_info": {
   "codemirror_mode": {
    "name": "ipython",
    "version": 3
   },
   "file_extension": ".py",
   "mimetype": "text/x-python",
   "name": "python",
   "nbconvert_exporter": "python",
   "pygments_lexer": "ipython3",
   "version": "3.7.9"
  },
  "toc-autonumbering": true,
  "toc-showcode": true
 },
 "nbformat": 4,
 "nbformat_minor": 5
}
